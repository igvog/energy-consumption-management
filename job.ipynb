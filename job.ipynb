{
 "cells": [
  {
   "cell_type": "code",
   "execution_count": 1,
   "metadata": {},
   "outputs": [
    {
     "name": "stderr",
     "output_type": "stream",
     "text": [
      "/Users/lsoirsam/Documents/GitHub/energy-consumption-management/.venv/lib/python3.11/site-packages/tqdm/auto.py:21: TqdmWarning: IProgress not found. Please update jupyter and ipywidgets. See https://ipywidgets.readthedocs.io/en/stable/user_install.html\n",
      "  from .autonotebook import tqdm as notebook_tqdm\n",
      "Matplotlib is building the font cache; this may take a moment.\n",
      "Importing plotly failed. Interactive plots will not work.\n"
     ]
    }
   ],
   "source": [
    "# Python\n",
    "import pandas as pd\n",
    "from prophet import Prophet\n"
   ]
  },
  {
   "cell_type": "code",
   "execution_count": 2,
   "metadata": {},
   "outputs": [
    {
     "data": {
      "text/html": [
       "<div>\n",
       "<style scoped>\n",
       "    .dataframe tbody tr th:only-of-type {\n",
       "        vertical-align: middle;\n",
       "    }\n",
       "\n",
       "    .dataframe tbody tr th {\n",
       "        vertical-align: top;\n",
       "    }\n",
       "\n",
       "    .dataframe thead th {\n",
       "        text-align: right;\n",
       "    }\n",
       "</style>\n",
       "<table border=\"1\" class=\"dataframe\">\n",
       "  <thead>\n",
       "    <tr style=\"text-align: right;\">\n",
       "      <th></th>\n",
       "      <th>ds</th>\n",
       "      <th>y</th>\n",
       "    </tr>\n",
       "  </thead>\n",
       "  <tbody>\n",
       "    <tr>\n",
       "      <th>0</th>\n",
       "      <td>2007-12-10</td>\n",
       "      <td>9.590761</td>\n",
       "    </tr>\n",
       "    <tr>\n",
       "      <th>1</th>\n",
       "      <td>2007-12-11</td>\n",
       "      <td>8.519590</td>\n",
       "    </tr>\n",
       "    <tr>\n",
       "      <th>2</th>\n",
       "      <td>2007-12-12</td>\n",
       "      <td>8.183677</td>\n",
       "    </tr>\n",
       "    <tr>\n",
       "      <th>3</th>\n",
       "      <td>2007-12-13</td>\n",
       "      <td>8.072467</td>\n",
       "    </tr>\n",
       "    <tr>\n",
       "      <th>4</th>\n",
       "      <td>2007-12-14</td>\n",
       "      <td>7.893572</td>\n",
       "    </tr>\n",
       "  </tbody>\n",
       "</table>\n",
       "</div>"
      ],
      "text/plain": [
       "           ds         y\n",
       "0  2007-12-10  9.590761\n",
       "1  2007-12-11  8.519590\n",
       "2  2007-12-12  8.183677\n",
       "3  2007-12-13  8.072467\n",
       "4  2007-12-14  7.893572"
      ]
     },
     "execution_count": 2,
     "metadata": {},
     "output_type": "execute_result"
    }
   ],
   "source": [
    "# Python\n",
    "df = pd.read_csv('https://raw.githubusercontent.com/facebook/prophet/main/examples/example_wp_log_peyton_manning.csv')\n",
    "df.head()"
   ]
  },
  {
   "cell_type": "code",
   "execution_count": 6,
   "metadata": {},
   "outputs": [
    {
     "name": "stderr",
     "output_type": "stream",
     "text": [
      "18:45:24 - cmdstanpy - INFO - Chain [1] start processing\n",
      "18:45:24 - cmdstanpy - INFO - Chain [1] done processing\n",
      "18:45:24 - cmdstanpy - ERROR - Chain [1] error: terminated by signal 6 Unknown error: -6\n",
      "Optimization terminated abnormally. Falling back to Newton.\n",
      "18:45:24 - cmdstanpy - INFO - Chain [1] start processing\n",
      "18:45:24 - cmdstanpy - INFO - Chain [1] done processing\n",
      "18:45:24 - cmdstanpy - ERROR - Chain [1] error: terminated by signal 6 Unknown error: -6\n"
     ]
    },
    {
     "ename": "RuntimeError",
     "evalue": "Error during optimization! Command '/Users/lsoirsam/Documents/GitHub/energy-consumption-management/.venv/lib/python3.11/site-packages/prophet/stan_model/prophet_model.bin random seed=91766 data file=/var/folders/gj/y9ts2p4n1fj9g29s12_zrspw0000gn/T/tmp8xx32oe2/5a0h_hsf.json init=/var/folders/gj/y9ts2p4n1fj9g29s12_zrspw0000gn/T/tmp8xx32oe2/c96ijsof.json output file=/var/folders/gj/y9ts2p4n1fj9g29s12_zrspw0000gn/T/tmp8xx32oe2/prophet_modelhpiquc37/prophet_model-20230925184524.csv method=optimize algorithm=newton iter=10000' failed: console log output:\n\ndyld[77278]: Library not loaded: @rpath/libtbb.dylib\n  Referenced from: <86F61A67-86DA-30A2-8BB7-85C9FA810BD4> /Users/lsoirsam/Documents/GitHub/energy-consumption-management/.venv/lib/python3.11/site-packages/prophet/stan_model/prophet_model.bin\n  Reason: tried: '/private/var/folders/gj/y9ts2p4n1fj9g29s12_zrspw0000gn/T/pip-install-erjbu014/prophet_af5131da68d14099839ca8c85a3cc6d7/build/lib.macosx-13.4-arm64-cpython-311/prophet/stan_model/cmdstan-2.31.0/stan/lib/stan_math/lib/tbb/libtbb.dylib' (no such file), '/System/Volumes/Preboot/Cryptexes/OS/private/var/folders/gj/y9ts2p4n1fj9g29s12_zrspw0000gn/T/pip-install-erjbu014/prophet_af5131da68d14099839ca8c85a3cc6d7/build/lib.macosx-13.4-arm64-cpython-311/prophet/stan_model/cmdstan-2.31.0/stan/lib/stan_math/lib/tbb/libtbb.dylib' (no such file), '/private/var/folders/gj/y9ts2p4n1fj9g29s12_zrspw0000gn/T/pip-install-erjbu014/prophet_af5131da68d14099839ca8c85a3cc6d7/build/lib.macosx-13.4-arm64-cpython-311/prophet/stan_model/cmdstan-2.31.0/stan/lib/stan_math/lib/tbb/libtbb.dylib' (no such file), '/System/Volumes/Preboot/Cryptexes/OS/private/var/folders/gj/y9ts2p4n1fj9g29s12_zrspw0000gn/T/pip-install-erjbu014/prophet_af5131da68d14099839ca8c85a3cc6d7/build/lib.macosx-13.4-arm64-cpython-311/prophet/stan_model/cmdstan-2.31.0/stan/lib/stan_math/lib/tbb/libtbb.dylib' (no such file), '/private/var/folders/gj/y9ts2p4n1fj9g29s12_zrspw0000gn/T/pip-install-erjbu014/prophet_af5131da68d14099839ca8c85a3cc6d7/build/lib.macosx-13.4-arm64-cpython-311/prophet/stan_model/cmdstan-2.31.0/stan/lib/stan_math/lib/tbb/libtbb.dylib' (no such file), '/System/Volumes/Preboot/Cryptexes/OS/private/var/folders/gj/y9ts2p4n1fj9g29s12_zrspw0000gn/T/pip-install-erjbu014/prophet_af5131da68d14099839ca8c85a3cc6d7/build/lib.macosx-13.4-arm64-cpython-311/prophet/stan_model/cmdstan-2.31.0/stan/lib/stan_math/lib/tbb/libtbb.dylib' (no such file), '/private/var/folders/gj/y9ts2p4n1fj9g29s12_zrspw0000gn/T/pip-install-erjbu014/prophet_af5131da68d14099839ca8c85a3cc6d7/build/lib.macosx-13.4-arm64-cpython-311/prophet/stan_model/cmdstan-2.31.0/stan/lib/stan_math/lib/tbb/libtbb.dylib' (no such file), '/System/Volumes/Preboot/Cryptexes/OS/private/var/folders/gj/y9ts2p4n1fj9g29s12_zrspw0000gn/T/pip-install-erjbu014/prophet_af5131da68d14099839ca8c85a3cc6d7/build/lib.macosx-13.4-arm64-cpython-311/prophet/stan_model/cmdstan-2.31.0/stan/lib/stan_math/lib/tbb/libtbb.dylib' (no such file), '/usr/local/lib/libtbb.dylib' (no such file), '/usr/lib/libtbb.dylib' (no such file, not in dyld cache)\n",
     "output_type": "error",
     "traceback": [
      "\u001b[0;31m---------------------------------------------------------------------------\u001b[0m",
      "\u001b[0;31mRuntimeError\u001b[0m                              Traceback (most recent call last)",
      "File \u001b[0;32m~/Documents/GitHub/energy-consumption-management/.venv/lib/python3.11/site-packages/prophet/models.py:90\u001b[0m, in \u001b[0;36mCmdStanPyBackend.fit\u001b[0;34m(self, stan_init, stan_data, **kwargs)\u001b[0m\n\u001b[1;32m     89\u001b[0m \u001b[39mtry\u001b[39;00m:\n\u001b[0;32m---> 90\u001b[0m     \u001b[39mself\u001b[39m\u001b[39m.\u001b[39mstan_fit \u001b[39m=\u001b[39m \u001b[39mself\u001b[39;49m\u001b[39m.\u001b[39;49mmodel\u001b[39m.\u001b[39;49moptimize(\u001b[39m*\u001b[39;49m\u001b[39m*\u001b[39;49margs)\n\u001b[1;32m     91\u001b[0m \u001b[39mexcept\u001b[39;00m \u001b[39mRuntimeError\u001b[39;00m \u001b[39mas\u001b[39;00m e:\n\u001b[1;32m     92\u001b[0m     \u001b[39m# Fall back on Newton\u001b[39;00m\n",
      "File \u001b[0;32m~/Documents/GitHub/energy-consumption-management/.venv/lib/python3.11/site-packages/cmdstanpy/model.py:738\u001b[0m, in \u001b[0;36mCmdStanModel.optimize\u001b[0;34m(self, data, seed, inits, output_dir, sig_figs, save_profile, algorithm, init_alpha, tol_obj, tol_rel_obj, tol_grad, tol_rel_grad, tol_param, history_size, iter, save_iterations, require_converged, show_console, refresh, time_fmt, timeout)\u001b[0m\n\u001b[1;32m    737\u001b[0m     \u001b[39melse\u001b[39;00m:\n\u001b[0;32m--> 738\u001b[0m         \u001b[39mraise\u001b[39;00m \u001b[39mRuntimeError\u001b[39;00m(msg)\n\u001b[1;32m    739\u001b[0m mle \u001b[39m=\u001b[39m CmdStanMLE(runset)\n",
      "\u001b[0;31mRuntimeError\u001b[0m: Error during optimization! Command '/Users/lsoirsam/Documents/GitHub/energy-consumption-management/.venv/lib/python3.11/site-packages/prophet/stan_model/prophet_model.bin random seed=22456 data file=/var/folders/gj/y9ts2p4n1fj9g29s12_zrspw0000gn/T/tmp8xx32oe2/7t87m_vj.json init=/var/folders/gj/y9ts2p4n1fj9g29s12_zrspw0000gn/T/tmp8xx32oe2/vfo8rxdm.json output file=/var/folders/gj/y9ts2p4n1fj9g29s12_zrspw0000gn/T/tmp8xx32oe2/prophet_model76ktprh5/prophet_model-20230925184524.csv method=optimize algorithm=lbfgs iter=10000' failed: console log output:\n\ndyld[77277]: Library not loaded: @rpath/libtbb.dylib\n  Referenced from: <86F61A67-86DA-30A2-8BB7-85C9FA810BD4> /Users/lsoirsam/Documents/GitHub/energy-consumption-management/.venv/lib/python3.11/site-packages/prophet/stan_model/prophet_model.bin\n  Reason: tried: '/private/var/folders/gj/y9ts2p4n1fj9g29s12_zrspw0000gn/T/pip-install-erjbu014/prophet_af5131da68d14099839ca8c85a3cc6d7/build/lib.macosx-13.4-arm64-cpython-311/prophet/stan_model/cmdstan-2.31.0/stan/lib/stan_math/lib/tbb/libtbb.dylib' (no such file), '/System/Volumes/Preboot/Cryptexes/OS/private/var/folders/gj/y9ts2p4n1fj9g29s12_zrspw0000gn/T/pip-install-erjbu014/prophet_af5131da68d14099839ca8c85a3cc6d7/build/lib.macosx-13.4-arm64-cpython-311/prophet/stan_model/cmdstan-2.31.0/stan/lib/stan_math/lib/tbb/libtbb.dylib' (no such file), '/private/var/folders/gj/y9ts2p4n1fj9g29s12_zrspw0000gn/T/pip-install-erjbu014/prophet_af5131da68d14099839ca8c85a3cc6d7/build/lib.macosx-13.4-arm64-cpython-311/prophet/stan_model/cmdstan-2.31.0/stan/lib/stan_math/lib/tbb/libtbb.dylib' (no such file), '/System/Volumes/Preboot/Cryptexes/OS/private/var/folders/gj/y9ts2p4n1fj9g29s12_zrspw0000gn/T/pip-install-erjbu014/prophet_af5131da68d14099839ca8c85a3cc6d7/build/lib.macosx-13.4-arm64-cpython-311/prophet/stan_model/cmdstan-2.31.0/stan/lib/stan_math/lib/tbb/libtbb.dylib' (no such file), '/private/var/folders/gj/y9ts2p4n1fj9g29s12_zrspw0000gn/T/pip-install-erjbu014/prophet_af5131da68d14099839ca8c85a3cc6d7/build/lib.macosx-13.4-arm64-cpython-311/prophet/stan_model/cmdstan-2.31.0/stan/lib/stan_math/lib/tbb/libtbb.dylib' (no such file), '/System/Volumes/Preboot/Cryptexes/OS/private/var/folders/gj/y9ts2p4n1fj9g29s12_zrspw0000gn/T/pip-install-erjbu014/prophet_af5131da68d14099839ca8c85a3cc6d7/build/lib.macosx-13.4-arm64-cpython-311/prophet/stan_model/cmdstan-2.31.0/stan/lib/stan_math/lib/tbb/libtbb.dylib' (no such file), '/private/var/folders/gj/y9ts2p4n1fj9g29s12_zrspw0000gn/T/pip-install-erjbu014/prophet_af5131da68d14099839ca8c85a3cc6d7/build/lib.macosx-13.4-arm64-cpython-311/prophet/stan_model/cmdstan-2.31.0/stan/lib/stan_math/lib/tbb/libtbb.dylib' (no such file), '/System/Volumes/Preboot/Cryptexes/OS/private/var/folders/gj/y9ts2p4n1fj9g29s12_zrspw0000gn/T/pip-install-erjbu014/prophet_af5131da68d14099839ca8c85a3cc6d7/build/lib.macosx-13.4-arm64-cpython-311/prophet/stan_model/cmdstan-2.31.0/stan/lib/stan_math/lib/tbb/libtbb.dylib' (no such file), '/usr/local/lib/libtbb.dylib' (no such file), '/usr/lib/libtbb.dylib' (no such file, not in dyld cache)\n",
      "\nDuring handling of the above exception, another exception occurred:\n",
      "\u001b[0;31mRuntimeError\u001b[0m                              Traceback (most recent call last)",
      "\u001b[1;32m/Users/lsoirsam/Documents/GitHub/energy-consumption-management/job.ipynb Cell 3\u001b[0m line \u001b[0;36m3\n\u001b[1;32m      <a href='vscode-notebook-cell:/Users/lsoirsam/Documents/GitHub/energy-consumption-management/job.ipynb#X11sZmlsZQ%3D%3D?line=0'>1</a>\u001b[0m \u001b[39m# Python\u001b[39;00m\n\u001b[1;32m      <a href='vscode-notebook-cell:/Users/lsoirsam/Documents/GitHub/energy-consumption-management/job.ipynb#X11sZmlsZQ%3D%3D?line=1'>2</a>\u001b[0m m \u001b[39m=\u001b[39m Prophet()\n\u001b[0;32m----> <a href='vscode-notebook-cell:/Users/lsoirsam/Documents/GitHub/energy-consumption-management/job.ipynb#X11sZmlsZQ%3D%3D?line=2'>3</a>\u001b[0m m\u001b[39m.\u001b[39;49mfit(df)\n",
      "File \u001b[0;32m~/Documents/GitHub/energy-consumption-management/.venv/lib/python3.11/site-packages/prophet/forecaster.py:1181\u001b[0m, in \u001b[0;36mProphet.fit\u001b[0;34m(self, df, **kwargs)\u001b[0m\n\u001b[1;32m   1179\u001b[0m     \u001b[39mself\u001b[39m\u001b[39m.\u001b[39mparams \u001b[39m=\u001b[39m \u001b[39mself\u001b[39m\u001b[39m.\u001b[39mstan_backend\u001b[39m.\u001b[39msampling(stan_init, dat, \u001b[39mself\u001b[39m\u001b[39m.\u001b[39mmcmc_samples, \u001b[39m*\u001b[39m\u001b[39m*\u001b[39mkwargs)\n\u001b[1;32m   1180\u001b[0m \u001b[39melse\u001b[39;00m:\n\u001b[0;32m-> 1181\u001b[0m     \u001b[39mself\u001b[39m\u001b[39m.\u001b[39mparams \u001b[39m=\u001b[39m \u001b[39mself\u001b[39;49m\u001b[39m.\u001b[39;49mstan_backend\u001b[39m.\u001b[39;49mfit(stan_init, dat, \u001b[39m*\u001b[39;49m\u001b[39m*\u001b[39;49mkwargs)\n\u001b[1;32m   1183\u001b[0m \u001b[39mself\u001b[39m\u001b[39m.\u001b[39mstan_fit \u001b[39m=\u001b[39m \u001b[39mself\u001b[39m\u001b[39m.\u001b[39mstan_backend\u001b[39m.\u001b[39mstan_fit\n\u001b[1;32m   1184\u001b[0m \u001b[39m# If no changepoints were requested, replace delta with 0s\u001b[39;00m\n",
      "File \u001b[0;32m~/Documents/GitHub/energy-consumption-management/.venv/lib/python3.11/site-packages/prophet/models.py:97\u001b[0m, in \u001b[0;36mCmdStanPyBackend.fit\u001b[0;34m(self, stan_init, stan_data, **kwargs)\u001b[0m\n\u001b[1;32m     95\u001b[0m     logger\u001b[39m.\u001b[39mwarning(\u001b[39m'\u001b[39m\u001b[39mOptimization terminated abnormally. Falling back to Newton.\u001b[39m\u001b[39m'\u001b[39m)\n\u001b[1;32m     96\u001b[0m     args[\u001b[39m'\u001b[39m\u001b[39malgorithm\u001b[39m\u001b[39m'\u001b[39m] \u001b[39m=\u001b[39m \u001b[39m'\u001b[39m\u001b[39mNewton\u001b[39m\u001b[39m'\u001b[39m\n\u001b[0;32m---> 97\u001b[0m     \u001b[39mself\u001b[39m\u001b[39m.\u001b[39mstan_fit \u001b[39m=\u001b[39m \u001b[39mself\u001b[39;49m\u001b[39m.\u001b[39;49mmodel\u001b[39m.\u001b[39;49moptimize(\u001b[39m*\u001b[39;49m\u001b[39m*\u001b[39;49margs)\n\u001b[1;32m     98\u001b[0m params \u001b[39m=\u001b[39m \u001b[39mself\u001b[39m\u001b[39m.\u001b[39mstan_to_dict_numpy(\n\u001b[1;32m     99\u001b[0m     \u001b[39mself\u001b[39m\u001b[39m.\u001b[39mstan_fit\u001b[39m.\u001b[39mcolumn_names, \u001b[39mself\u001b[39m\u001b[39m.\u001b[39mstan_fit\u001b[39m.\u001b[39moptimized_params_np)\n\u001b[1;32m    100\u001b[0m \u001b[39mfor\u001b[39;00m par \u001b[39min\u001b[39;00m params:\n",
      "File \u001b[0;32m~/Documents/GitHub/energy-consumption-management/.venv/lib/python3.11/site-packages/cmdstanpy/model.py:738\u001b[0m, in \u001b[0;36mCmdStanModel.optimize\u001b[0;34m(self, data, seed, inits, output_dir, sig_figs, save_profile, algorithm, init_alpha, tol_obj, tol_rel_obj, tol_grad, tol_rel_grad, tol_param, history_size, iter, save_iterations, require_converged, show_console, refresh, time_fmt, timeout)\u001b[0m\n\u001b[1;32m    736\u001b[0m         get_logger()\u001b[39m.\u001b[39mwarning(msg)\n\u001b[1;32m    737\u001b[0m     \u001b[39melse\u001b[39;00m:\n\u001b[0;32m--> 738\u001b[0m         \u001b[39mraise\u001b[39;00m \u001b[39mRuntimeError\u001b[39;00m(msg)\n\u001b[1;32m    739\u001b[0m mle \u001b[39m=\u001b[39m CmdStanMLE(runset)\n\u001b[1;32m    740\u001b[0m \u001b[39mreturn\u001b[39;00m mle\n",
      "\u001b[0;31mRuntimeError\u001b[0m: Error during optimization! Command '/Users/lsoirsam/Documents/GitHub/energy-consumption-management/.venv/lib/python3.11/site-packages/prophet/stan_model/prophet_model.bin random seed=91766 data file=/var/folders/gj/y9ts2p4n1fj9g29s12_zrspw0000gn/T/tmp8xx32oe2/5a0h_hsf.json init=/var/folders/gj/y9ts2p4n1fj9g29s12_zrspw0000gn/T/tmp8xx32oe2/c96ijsof.json output file=/var/folders/gj/y9ts2p4n1fj9g29s12_zrspw0000gn/T/tmp8xx32oe2/prophet_modelhpiquc37/prophet_model-20230925184524.csv method=optimize algorithm=newton iter=10000' failed: console log output:\n\ndyld[77278]: Library not loaded: @rpath/libtbb.dylib\n  Referenced from: <86F61A67-86DA-30A2-8BB7-85C9FA810BD4> /Users/lsoirsam/Documents/GitHub/energy-consumption-management/.venv/lib/python3.11/site-packages/prophet/stan_model/prophet_model.bin\n  Reason: tried: '/private/var/folders/gj/y9ts2p4n1fj9g29s12_zrspw0000gn/T/pip-install-erjbu014/prophet_af5131da68d14099839ca8c85a3cc6d7/build/lib.macosx-13.4-arm64-cpython-311/prophet/stan_model/cmdstan-2.31.0/stan/lib/stan_math/lib/tbb/libtbb.dylib' (no such file), '/System/Volumes/Preboot/Cryptexes/OS/private/var/folders/gj/y9ts2p4n1fj9g29s12_zrspw0000gn/T/pip-install-erjbu014/prophet_af5131da68d14099839ca8c85a3cc6d7/build/lib.macosx-13.4-arm64-cpython-311/prophet/stan_model/cmdstan-2.31.0/stan/lib/stan_math/lib/tbb/libtbb.dylib' (no such file), '/private/var/folders/gj/y9ts2p4n1fj9g29s12_zrspw0000gn/T/pip-install-erjbu014/prophet_af5131da68d14099839ca8c85a3cc6d7/build/lib.macosx-13.4-arm64-cpython-311/prophet/stan_model/cmdstan-2.31.0/stan/lib/stan_math/lib/tbb/libtbb.dylib' (no such file), '/System/Volumes/Preboot/Cryptexes/OS/private/var/folders/gj/y9ts2p4n1fj9g29s12_zrspw0000gn/T/pip-install-erjbu014/prophet_af5131da68d14099839ca8c85a3cc6d7/build/lib.macosx-13.4-arm64-cpython-311/prophet/stan_model/cmdstan-2.31.0/stan/lib/stan_math/lib/tbb/libtbb.dylib' (no such file), '/private/var/folders/gj/y9ts2p4n1fj9g29s12_zrspw0000gn/T/pip-install-erjbu014/prophet_af5131da68d14099839ca8c85a3cc6d7/build/lib.macosx-13.4-arm64-cpython-311/prophet/stan_model/cmdstan-2.31.0/stan/lib/stan_math/lib/tbb/libtbb.dylib' (no such file), '/System/Volumes/Preboot/Cryptexes/OS/private/var/folders/gj/y9ts2p4n1fj9g29s12_zrspw0000gn/T/pip-install-erjbu014/prophet_af5131da68d14099839ca8c85a3cc6d7/build/lib.macosx-13.4-arm64-cpython-311/prophet/stan_model/cmdstan-2.31.0/stan/lib/stan_math/lib/tbb/libtbb.dylib' (no such file), '/private/var/folders/gj/y9ts2p4n1fj9g29s12_zrspw0000gn/T/pip-install-erjbu014/prophet_af5131da68d14099839ca8c85a3cc6d7/build/lib.macosx-13.4-arm64-cpython-311/prophet/stan_model/cmdstan-2.31.0/stan/lib/stan_math/lib/tbb/libtbb.dylib' (no such file), '/System/Volumes/Preboot/Cryptexes/OS/private/var/folders/gj/y9ts2p4n1fj9g29s12_zrspw0000gn/T/pip-install-erjbu014/prophet_af5131da68d14099839ca8c85a3cc6d7/build/lib.macosx-13.4-arm64-cpython-311/prophet/stan_model/cmdstan-2.31.0/stan/lib/stan_math/lib/tbb/libtbb.dylib' (no such file), '/usr/local/lib/libtbb.dylib' (no such file), '/usr/lib/libtbb.dylib' (no such file, not in dyld cache)\n"
     ]
    }
   ],
   "source": [
    "# Python\n",
    "m = Prophet()\n",
    "m.fit(df)\n"
   ]
  },
  {
   "cell_type": "code",
   "execution_count": 5,
   "metadata": {},
   "outputs": [
    {
     "data": {
      "text/html": [
       "<div>\n",
       "<style scoped>\n",
       "    .dataframe tbody tr th:only-of-type {\n",
       "        vertical-align: middle;\n",
       "    }\n",
       "\n",
       "    .dataframe tbody tr th {\n",
       "        vertical-align: top;\n",
       "    }\n",
       "\n",
       "    .dataframe thead th {\n",
       "        text-align: right;\n",
       "    }\n",
       "</style>\n",
       "<table border=\"1\" class=\"dataframe\">\n",
       "  <thead>\n",
       "    <tr style=\"text-align: right;\">\n",
       "      <th></th>\n",
       "      <th>ds</th>\n",
       "    </tr>\n",
       "  </thead>\n",
       "  <tbody>\n",
       "    <tr>\n",
       "      <th>3265</th>\n",
       "      <td>2017-01-15</td>\n",
       "    </tr>\n",
       "    <tr>\n",
       "      <th>3266</th>\n",
       "      <td>2017-01-16</td>\n",
       "    </tr>\n",
       "    <tr>\n",
       "      <th>3267</th>\n",
       "      <td>2017-01-17</td>\n",
       "    </tr>\n",
       "    <tr>\n",
       "      <th>3268</th>\n",
       "      <td>2017-01-18</td>\n",
       "    </tr>\n",
       "    <tr>\n",
       "      <th>3269</th>\n",
       "      <td>2017-01-19</td>\n",
       "    </tr>\n",
       "  </tbody>\n",
       "</table>\n",
       "</div>"
      ],
      "text/plain": [
       "             ds\n",
       "3265 2017-01-15\n",
       "3266 2017-01-16\n",
       "3267 2017-01-17\n",
       "3268 2017-01-18\n",
       "3269 2017-01-19"
      ]
     },
     "execution_count": 5,
     "metadata": {},
     "output_type": "execute_result"
    }
   ],
   "source": [
    "# Python\n",
    "future = m.make_future_dataframe(periods=365)\n",
    "future.tail()"
   ]
  },
  {
   "cell_type": "code",
   "execution_count": null,
   "metadata": {},
   "outputs": [],
   "source": [
    "import pandas as pd\n",
    "\n",
    "habr_df = pd.read_csv('howpop_train.csv')\n",
    "habr_df['published'] = pd.to_datetime(habr_df.published)\n",
    "habr_df = habr_df[['published', 'url']]\n",
    "\n",
    "aggr_habr_df = habr_df.groupby('published')[['url']].count() \n",
    "aggr_habr_df.columns = ['posts']\n",
    "\n",
    "aggr_habr_df = aggr_habr_df.resample('D').apply(sum)"
   ]
  },
  {
   "cell_type": "code",
   "execution_count": null,
   "metadata": {},
   "outputs": [],
   "source": [
    "#импортируем библиотеку\n",
    "from fbprophet import Prophet\n",
    "\n",
    "predictions = 30\n",
    "\n",
    "# приводим dataframe к нужному формату\n",
    "df = aggr_habr_df.reset_index()\n",
    "df.columns = ['ds', 'y']\n",
    "\n",
    "# отрезаем из обучающей выборки последние 30 точек, чтобы измерить на них качество\n",
    "train_df = df[:-predictions] "
   ]
  },
  {
   "cell_type": "code",
   "execution_count": null,
   "metadata": {},
   "outputs": [],
   "source": [
    "from fbprophet import Prophet\n",
    "from fbprophet.plot import plot_plotly\n",
    "import plotly.offline as py\n",
    "py.init_notebook_mode()"
   ]
  }
 ],
 "metadata": {
  "kernelspec": {
   "display_name": "Python 3",
   "language": "python",
   "name": "python3"
  },
  "language_info": {
   "codemirror_mode": {
    "name": "ipython",
    "version": 3
   },
   "file_extension": ".py",
   "mimetype": "text/x-python",
   "name": "python",
   "nbconvert_exporter": "python",
   "pygments_lexer": "ipython3",
   "version": "3.11.4"
  },
  "orig_nbformat": 4
 },
 "nbformat": 4,
 "nbformat_minor": 2
}
